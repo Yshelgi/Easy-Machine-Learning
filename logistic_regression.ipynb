{
 "cells": [
  {
   "cell_type": "markdown",
   "metadata": {},
   "source": [
    "# Logistic Regression"
   ]
  },
  {
   "cell_type": "markdown",
   "metadata": {},
   "source": [
    "Here we use the cancer dataset to learn logistic regression."
   ]
  },
  {
   "cell_type": "markdown",
   "metadata": {},
   "source": [
    "## Data Exploration"
   ]
  },
  {
   "cell_type": "code",
   "execution_count": 2,
   "metadata": {},
   "outputs": [],
   "source": [
    "import numpy as np\n",
    "import pandas as pd\n",
    "from matplotlib import pyplot as plt\n",
    "%matplotlib inline\n",
    "from sklearn.datasets import load_breast_cancer\n",
    "#from sklearn.linear_model import LogisticRegression\n",
    "from sklearn.model_selection import train_test_split\n"
   ]
  },
  {
   "cell_type": "code",
   "execution_count": 5,
   "metadata": {},
   "outputs": [],
   "source": [
    "dataset = load_breast_cancer()\n",
    "data = pd.DataFrame(data=dataset.data, columns=dataset.feature_names)\n",
    "data['cancer'] = [dataset.target_names[t] for t in dataset.target]\n"
   ]
  },
  {
   "cell_type": "code",
   "execution_count": 4,
   "metadata": {},
   "outputs": [
    {
     "name": "stdout",
     "output_type": "stream",
     "text": [
      "['malignant' 'benign']\n"
     ]
    }
   ],
   "source": [
    "print(dataset.target_names)"
   ]
  },
  {
   "cell_type": "code",
   "execution_count": 4,
   "metadata": {},
   "outputs": [],
   "source": []
  },
  {
   "cell_type": "code",
   "execution_count": null,
   "metadata": {},
   "outputs": [],
   "source": []
  },
  {
   "cell_type": "code",
   "execution_count": 5,
   "metadata": {
    "scrolled": true
   },
   "outputs": [
    {
     "data": {
      "text/html": [
       "<div>\n",
       "<style scoped>\n",
       "    .dataframe tbody tr th:only-of-type {\n",
       "        vertical-align: middle;\n",
       "    }\n",
       "\n",
       "    .dataframe tbody tr th {\n",
       "        vertical-align: top;\n",
       "    }\n",
       "\n",
       "    .dataframe thead th {\n",
       "        text-align: right;\n",
       "    }\n",
       "</style>\n",
       "<table border=\"1\" class=\"dataframe\">\n",
       "  <thead>\n",
       "    <tr style=\"text-align: right;\">\n",
       "      <th></th>\n",
       "      <th>mean radius</th>\n",
       "      <th>mean texture</th>\n",
       "      <th>mean perimeter</th>\n",
       "      <th>mean area</th>\n",
       "      <th>mean smoothness</th>\n",
       "      <th>mean compactness</th>\n",
       "      <th>mean concavity</th>\n",
       "      <th>mean concave points</th>\n",
       "      <th>mean symmetry</th>\n",
       "      <th>mean fractal dimension</th>\n",
       "      <th>...</th>\n",
       "      <th>worst texture</th>\n",
       "      <th>worst perimeter</th>\n",
       "      <th>worst area</th>\n",
       "      <th>worst smoothness</th>\n",
       "      <th>worst compactness</th>\n",
       "      <th>worst concavity</th>\n",
       "      <th>worst concave points</th>\n",
       "      <th>worst symmetry</th>\n",
       "      <th>worst fractal dimension</th>\n",
       "      <th>cancer</th>\n",
       "    </tr>\n",
       "  </thead>\n",
       "  <tbody>\n",
       "    <tr>\n",
       "      <th>18</th>\n",
       "      <td>19.810</td>\n",
       "      <td>22.15</td>\n",
       "      <td>130.00</td>\n",
       "      <td>1260.0</td>\n",
       "      <td>0.09831</td>\n",
       "      <td>0.10270</td>\n",
       "      <td>0.14790</td>\n",
       "      <td>0.09498</td>\n",
       "      <td>0.1582</td>\n",
       "      <td>0.05395</td>\n",
       "      <td>...</td>\n",
       "      <td>30.88</td>\n",
       "      <td>186.80</td>\n",
       "      <td>2398.0</td>\n",
       "      <td>0.1512</td>\n",
       "      <td>0.3150</td>\n",
       "      <td>0.53720</td>\n",
       "      <td>0.23880</td>\n",
       "      <td>0.2768</td>\n",
       "      <td>0.07615</td>\n",
       "      <td>malignant</td>\n",
       "    </tr>\n",
       "    <tr>\n",
       "      <th>19</th>\n",
       "      <td>13.540</td>\n",
       "      <td>14.36</td>\n",
       "      <td>87.46</td>\n",
       "      <td>566.3</td>\n",
       "      <td>0.09779</td>\n",
       "      <td>0.08129</td>\n",
       "      <td>0.06664</td>\n",
       "      <td>0.04781</td>\n",
       "      <td>0.1885</td>\n",
       "      <td>0.05766</td>\n",
       "      <td>...</td>\n",
       "      <td>19.26</td>\n",
       "      <td>99.70</td>\n",
       "      <td>711.2</td>\n",
       "      <td>0.1440</td>\n",
       "      <td>0.1773</td>\n",
       "      <td>0.23900</td>\n",
       "      <td>0.12880</td>\n",
       "      <td>0.2977</td>\n",
       "      <td>0.07259</td>\n",
       "      <td>benign</td>\n",
       "    </tr>\n",
       "    <tr>\n",
       "      <th>20</th>\n",
       "      <td>13.080</td>\n",
       "      <td>15.71</td>\n",
       "      <td>85.63</td>\n",
       "      <td>520.0</td>\n",
       "      <td>0.10750</td>\n",
       "      <td>0.12700</td>\n",
       "      <td>0.04568</td>\n",
       "      <td>0.03110</td>\n",
       "      <td>0.1967</td>\n",
       "      <td>0.06811</td>\n",
       "      <td>...</td>\n",
       "      <td>20.49</td>\n",
       "      <td>96.09</td>\n",
       "      <td>630.5</td>\n",
       "      <td>0.1312</td>\n",
       "      <td>0.2776</td>\n",
       "      <td>0.18900</td>\n",
       "      <td>0.07283</td>\n",
       "      <td>0.3184</td>\n",
       "      <td>0.08183</td>\n",
       "      <td>benign</td>\n",
       "    </tr>\n",
       "    <tr>\n",
       "      <th>21</th>\n",
       "      <td>9.504</td>\n",
       "      <td>12.44</td>\n",
       "      <td>60.34</td>\n",
       "      <td>273.9</td>\n",
       "      <td>0.10240</td>\n",
       "      <td>0.06492</td>\n",
       "      <td>0.02956</td>\n",
       "      <td>0.02076</td>\n",
       "      <td>0.1815</td>\n",
       "      <td>0.06905</td>\n",
       "      <td>...</td>\n",
       "      <td>15.66</td>\n",
       "      <td>65.13</td>\n",
       "      <td>314.9</td>\n",
       "      <td>0.1324</td>\n",
       "      <td>0.1148</td>\n",
       "      <td>0.08867</td>\n",
       "      <td>0.06227</td>\n",
       "      <td>0.2450</td>\n",
       "      <td>0.07773</td>\n",
       "      <td>benign</td>\n",
       "    </tr>\n",
       "    <tr>\n",
       "      <th>22</th>\n",
       "      <td>15.340</td>\n",
       "      <td>14.26</td>\n",
       "      <td>102.50</td>\n",
       "      <td>704.4</td>\n",
       "      <td>0.10730</td>\n",
       "      <td>0.21350</td>\n",
       "      <td>0.20770</td>\n",
       "      <td>0.09756</td>\n",
       "      <td>0.2521</td>\n",
       "      <td>0.07032</td>\n",
       "      <td>...</td>\n",
       "      <td>19.08</td>\n",
       "      <td>125.10</td>\n",
       "      <td>980.9</td>\n",
       "      <td>0.1390</td>\n",
       "      <td>0.5954</td>\n",
       "      <td>0.63050</td>\n",
       "      <td>0.23930</td>\n",
       "      <td>0.4667</td>\n",
       "      <td>0.09946</td>\n",
       "      <td>malignant</td>\n",
       "    </tr>\n",
       "    <tr>\n",
       "      <th>23</th>\n",
       "      <td>21.160</td>\n",
       "      <td>23.04</td>\n",
       "      <td>137.20</td>\n",
       "      <td>1404.0</td>\n",
       "      <td>0.09428</td>\n",
       "      <td>0.10220</td>\n",
       "      <td>0.10970</td>\n",
       "      <td>0.08632</td>\n",
       "      <td>0.1769</td>\n",
       "      <td>0.05278</td>\n",
       "      <td>...</td>\n",
       "      <td>35.59</td>\n",
       "      <td>188.00</td>\n",
       "      <td>2615.0</td>\n",
       "      <td>0.1401</td>\n",
       "      <td>0.2600</td>\n",
       "      <td>0.31550</td>\n",
       "      <td>0.20090</td>\n",
       "      <td>0.2822</td>\n",
       "      <td>0.07526</td>\n",
       "      <td>malignant</td>\n",
       "    </tr>\n",
       "    <tr>\n",
       "      <th>24</th>\n",
       "      <td>16.650</td>\n",
       "      <td>21.38</td>\n",
       "      <td>110.00</td>\n",
       "      <td>904.6</td>\n",
       "      <td>0.11210</td>\n",
       "      <td>0.14570</td>\n",
       "      <td>0.15250</td>\n",
       "      <td>0.09170</td>\n",
       "      <td>0.1995</td>\n",
       "      <td>0.06330</td>\n",
       "      <td>...</td>\n",
       "      <td>31.56</td>\n",
       "      <td>177.00</td>\n",
       "      <td>2215.0</td>\n",
       "      <td>0.1805</td>\n",
       "      <td>0.3578</td>\n",
       "      <td>0.46950</td>\n",
       "      <td>0.20950</td>\n",
       "      <td>0.3613</td>\n",
       "      <td>0.09564</td>\n",
       "      <td>malignant</td>\n",
       "    </tr>\n",
       "    <tr>\n",
       "      <th>25</th>\n",
       "      <td>17.140</td>\n",
       "      <td>16.40</td>\n",
       "      <td>116.00</td>\n",
       "      <td>912.7</td>\n",
       "      <td>0.11860</td>\n",
       "      <td>0.22760</td>\n",
       "      <td>0.22290</td>\n",
       "      <td>0.14010</td>\n",
       "      <td>0.3040</td>\n",
       "      <td>0.07413</td>\n",
       "      <td>...</td>\n",
       "      <td>21.40</td>\n",
       "      <td>152.40</td>\n",
       "      <td>1461.0</td>\n",
       "      <td>0.1545</td>\n",
       "      <td>0.3949</td>\n",
       "      <td>0.38530</td>\n",
       "      <td>0.25500</td>\n",
       "      <td>0.4066</td>\n",
       "      <td>0.10590</td>\n",
       "      <td>malignant</td>\n",
       "    </tr>\n",
       "    <tr>\n",
       "      <th>26</th>\n",
       "      <td>14.580</td>\n",
       "      <td>21.53</td>\n",
       "      <td>97.41</td>\n",
       "      <td>644.8</td>\n",
       "      <td>0.10540</td>\n",
       "      <td>0.18680</td>\n",
       "      <td>0.14250</td>\n",
       "      <td>0.08783</td>\n",
       "      <td>0.2252</td>\n",
       "      <td>0.06924</td>\n",
       "      <td>...</td>\n",
       "      <td>33.21</td>\n",
       "      <td>122.40</td>\n",
       "      <td>896.9</td>\n",
       "      <td>0.1525</td>\n",
       "      <td>0.6643</td>\n",
       "      <td>0.55390</td>\n",
       "      <td>0.27010</td>\n",
       "      <td>0.4264</td>\n",
       "      <td>0.12750</td>\n",
       "      <td>malignant</td>\n",
       "    </tr>\n",
       "    <tr>\n",
       "      <th>27</th>\n",
       "      <td>18.610</td>\n",
       "      <td>20.25</td>\n",
       "      <td>122.10</td>\n",
       "      <td>1094.0</td>\n",
       "      <td>0.09440</td>\n",
       "      <td>0.10660</td>\n",
       "      <td>0.14900</td>\n",
       "      <td>0.07731</td>\n",
       "      <td>0.1697</td>\n",
       "      <td>0.05699</td>\n",
       "      <td>...</td>\n",
       "      <td>27.26</td>\n",
       "      <td>139.90</td>\n",
       "      <td>1403.0</td>\n",
       "      <td>0.1338</td>\n",
       "      <td>0.2117</td>\n",
       "      <td>0.34460</td>\n",
       "      <td>0.14900</td>\n",
       "      <td>0.2341</td>\n",
       "      <td>0.07421</td>\n",
       "      <td>malignant</td>\n",
       "    </tr>\n",
       "  </tbody>\n",
       "</table>\n",
       "<p>10 rows × 31 columns</p>\n",
       "</div>"
      ],
      "text/plain": [
       "    mean radius  mean texture  mean perimeter  mean area  mean smoothness  \\\n",
       "18       19.810         22.15          130.00     1260.0          0.09831   \n",
       "19       13.540         14.36           87.46      566.3          0.09779   \n",
       "20       13.080         15.71           85.63      520.0          0.10750   \n",
       "21        9.504         12.44           60.34      273.9          0.10240   \n",
       "22       15.340         14.26          102.50      704.4          0.10730   \n",
       "23       21.160         23.04          137.20     1404.0          0.09428   \n",
       "24       16.650         21.38          110.00      904.6          0.11210   \n",
       "25       17.140         16.40          116.00      912.7          0.11860   \n",
       "26       14.580         21.53           97.41      644.8          0.10540   \n",
       "27       18.610         20.25          122.10     1094.0          0.09440   \n",
       "\n",
       "    mean compactness  mean concavity  mean concave points  mean symmetry  \\\n",
       "18           0.10270         0.14790              0.09498         0.1582   \n",
       "19           0.08129         0.06664              0.04781         0.1885   \n",
       "20           0.12700         0.04568              0.03110         0.1967   \n",
       "21           0.06492         0.02956              0.02076         0.1815   \n",
       "22           0.21350         0.20770              0.09756         0.2521   \n",
       "23           0.10220         0.10970              0.08632         0.1769   \n",
       "24           0.14570         0.15250              0.09170         0.1995   \n",
       "25           0.22760         0.22290              0.14010         0.3040   \n",
       "26           0.18680         0.14250              0.08783         0.2252   \n",
       "27           0.10660         0.14900              0.07731         0.1697   \n",
       "\n",
       "    mean fractal dimension    ...      worst texture  worst perimeter  \\\n",
       "18                 0.05395    ...              30.88           186.80   \n",
       "19                 0.05766    ...              19.26            99.70   \n",
       "20                 0.06811    ...              20.49            96.09   \n",
       "21                 0.06905    ...              15.66            65.13   \n",
       "22                 0.07032    ...              19.08           125.10   \n",
       "23                 0.05278    ...              35.59           188.00   \n",
       "24                 0.06330    ...              31.56           177.00   \n",
       "25                 0.07413    ...              21.40           152.40   \n",
       "26                 0.06924    ...              33.21           122.40   \n",
       "27                 0.05699    ...              27.26           139.90   \n",
       "\n",
       "    worst area  worst smoothness  worst compactness  worst concavity  \\\n",
       "18      2398.0            0.1512             0.3150          0.53720   \n",
       "19       711.2            0.1440             0.1773          0.23900   \n",
       "20       630.5            0.1312             0.2776          0.18900   \n",
       "21       314.9            0.1324             0.1148          0.08867   \n",
       "22       980.9            0.1390             0.5954          0.63050   \n",
       "23      2615.0            0.1401             0.2600          0.31550   \n",
       "24      2215.0            0.1805             0.3578          0.46950   \n",
       "25      1461.0            0.1545             0.3949          0.38530   \n",
       "26       896.9            0.1525             0.6643          0.55390   \n",
       "27      1403.0            0.1338             0.2117          0.34460   \n",
       "\n",
       "    worst concave points  worst symmetry  worst fractal dimension     cancer  \n",
       "18               0.23880          0.2768                  0.07615  malignant  \n",
       "19               0.12880          0.2977                  0.07259     benign  \n",
       "20               0.07283          0.3184                  0.08183     benign  \n",
       "21               0.06227          0.2450                  0.07773     benign  \n",
       "22               0.23930          0.4667                  0.09946  malignant  \n",
       "23               0.20090          0.2822                  0.07526  malignant  \n",
       "24               0.20950          0.3613                  0.09564  malignant  \n",
       "25               0.25500          0.4066                  0.10590  malignant  \n",
       "26               0.27010          0.4264                  0.12750  malignant  \n",
       "27               0.14900          0.2341                  0.07421  malignant  \n",
       "\n",
       "[10 rows x 31 columns]"
      ]
     },
     "execution_count": 5,
     "metadata": {},
     "output_type": "execute_result"
    }
   ],
   "source": [
    "data[18:28]"
   ]
  },
  {
   "cell_type": "code",
   "execution_count": null,
   "metadata": {},
   "outputs": [],
   "source": []
  },
  {
   "cell_type": "code",
   "execution_count": 6,
   "metadata": {},
   "outputs": [
    {
     "data": {
      "text/plain": [
       "benign       357\n",
       "malignant    212\n",
       "Name: cancer, dtype: int64"
      ]
     },
     "execution_count": 6,
     "metadata": {},
     "output_type": "execute_result"
    }
   ],
   "source": [
    "data['cancer'].value_counts()"
   ]
  },
  {
   "cell_type": "code",
   "execution_count": null,
   "metadata": {},
   "outputs": [],
   "source": []
  },
  {
   "cell_type": "markdown",
   "metadata": {},
   "source": [
    "# Algorithm\n",
    "## Model\n",
    "In order to scale the result between 0 and 1, we use Sigmoid function.\n"
   ]
  },
  {
   "cell_type": "markdown",
   "metadata": {},
   "source": []
  },
  {
   "cell_type": "code",
   "execution_count": 7,
   "metadata": {},
   "outputs": [],
   "source": [
    "def sigmoid(z):\n",
    "    s = 1/(1+np.exp(-z))\n",
    "    s = s.reshape(s.shape[0],1)\n",
    "    return s"
   ]
  },
  {
   "cell_type": "code",
   "execution_count": 8,
   "metadata": {},
   "outputs": [
    {
     "data": {
      "image/png": "[encoded data removed]",
      "text/plain": [
       "<Figure size 432x288 with 1 Axes>"
      ]
     },
     "metadata": {
      "needs_background": "light"
     },
     "output_type": "display_data"
    }
   ],
   "source": [
    "def draw_sigmoid():\n",
    "    x = np.arange(-6, 6, .01)\n",
    "    y = sigmoid(x)\n",
    "\n",
    "    plt.plot(x, y, color='red', lw=2)\n",
    "    plt.show()\n",
    "\n",
    "draw_sigmoid()"
   ]
  },
  {
   "cell_type": "markdown",
   "metadata": {},
   "source": [
    "when we replace z with $\\theta x$, we get the model function.\n",
    "\n",
    "$\\hat{y}=\\frac{1}{1 + e^{- \\theta x}}$"
   ]
  },
  {
   "cell_type": "code",
   "execution_count": 9,
   "metadata": {},
   "outputs": [],
   "source": [
    "def model(theta, X):\n",
    "    z = np.sum(theta.T * X, axis=1)\n",
    "    return sigmoid(z)"
   ]
  },
  {
   "cell_type": "markdown",
   "metadata": {},
   "source": [
    "## Loss Function"
   ]
  },
  {
   "cell_type": "code",
   "execution_count": 10,
   "metadata": {},
   "outputs": [],
   "source": [
    "#cross_entropy\n",
    "def cross_entropy(y, y_hat):\n",
    "    n_samples = y.shape[0]\n",
    "    return sum(-y*np.log(y_hat)-(1-y)*np.log(1-y_hat))/n_samples\n",
    "\n",
    "def cost_function(theta, X, y):\n",
    "    y_hat = model(theta, X)\n",
    "    return cross_entropy(y, y_hat)"
   ]
  },
  {
   "cell_type": "markdown",
   "metadata": {},
   "source": [
    "## Optimizer\n",
    "\n",
    "Let us name the lost function as **J**\n",
    "\n",
    "$J= - y * log(\\hat{y}) - (1-y) * log(1-\\hat{y})$\n",
    "\n",
    "So the devivative of J will be:\n",
    "\n",
    "$\\frac{\\partial J}{\\partial \\theta} = - \\frac{\\partial (y * log(\\hat{y}) + (1-y) * log(1-\\hat{y}))}{\\partial \\theta}$\n",
    "\n",
    "$ = - \\frac{\\partial (y * log(\\hat{y}))}{\\partial \\theta} - \\frac{\\partial  ((1-y) * log(1-\\hat{y}))}{\\partial \\theta}$\n",
    "\n",
    "$ = - y * \\frac{\\partial log(\\hat{y})}{\\partial \\theta} - (1-y) * \\frac{log(1-\\hat{y})}{\\partial \\theta}$\n",
    "\n",
    "$ = - \\frac{y}{\\hat{y}} *\\frac{\\partial \\hat{y}}{\\partial \\theta} - \\frac{1-y}{1-\\hat{y}} *\\frac{\\partial (1-\\hat{y})}{\\partial \\theta}$\n",
    "\n",
    "$ = - \\frac{y}{\\hat{y}} *\\frac{\\partial \\hat{y}}{\\partial \\theta} + \\frac{1-y}{1-\\hat{y}} *\\frac{\\partial (\\hat{y})}{\\partial \\theta}$\n",
    "\n",
    "$ = (- \\frac{y}{\\hat{y}} + \\frac{1-y}{1-\\hat{y}} ) * \\frac{\\partial (\\hat{y})}{\\partial \\theta}$\n",
    "\n",
    "$ = (- \\frac{y}{\\hat{y}} + \\frac{1-y}{1-\\hat{y}} ) * \\frac{\\partial (\\frac{1}{1 + e^{- \\theta x}})} {\\partial a}$\n",
    "\n",
    "$ = (- \\frac{y}{\\hat{y}} + \\frac{1-y}{1-\\hat{y}} ) * (- \\hat{y} ^ 2) \\frac{\\partial (1 + e^{- \\theta x})} {\\partial \\theta}$\n",
    "\n",
    "$ = (- \\frac{y}{\\hat{y}} + \\frac{1-y}{1-\\hat{y}} ) * (- \\hat{y} ^ 2) \\frac{\\partial (e^{- \\theta x})} {\\partial \\theta}$\n",
    "\n",
    "$ = (- \\frac{y}{\\hat{y}} + \\frac{1-y}{1-\\hat{y}} ) * (- \\hat{y} ^ 2) * e^{- \\theta x} \\frac{\\partial (- \\theta x)} {\\partial \\theta}$\n",
    "\n",
    "$ = (- \\frac{y}{\\hat{y}} + \\frac{1-y}{1-\\hat{y}} ) * \\hat{y} ^ 2 * e^{- \\theta x} * x $\n",
    "\n",
    "∵  $\\hat{y}=\\frac{1}{1 + e^{- \\theta x}}$ \n",
    "\n",
    "∴  $1 + e^{- \\theta x}=\\frac{1}{\\hat{y}}$ \n",
    "\n",
    "∴  $e^{- \\theta x}=\\frac{1}{\\hat{y}} - 1$ \n",
    "\n",
    "∴  $e^{- \\theta x}=\\frac{1-\\hat{y}}{\\hat{y}}$ \n",
    "\n",
    "$\\frac{\\partial J}{\\partial \\theta} = (- \\frac{y}{\\hat{y}} + \\frac{1-y}{1-\\hat{y}} ) * \\hat{y} ^ 2 * \\frac{1-\\hat{y}}{\\hat{y}} * x$\n",
    "\n",
    "$\\frac{\\partial J}{\\partial \\theta} = (- \\frac{y}{\\hat{y}} + \\frac{1-y}{1-\\hat{y}} ) * \\hat{y} * (1-\\hat{y}) * x$\n",
    "\n",
    "$\\frac{\\partial J}{\\partial \\theta} = (- y * (1-\\hat{y}) + (1-y) * \\hat{y} ) * x$\n",
    "\n",
    "$\\frac{\\partial J}{\\partial \\theta} = (- y + y *\\hat{y} + \\hat{y}-y * \\hat{y} ) * x$\n",
    "\n",
    "$\\frac{\\partial J}{\\partial \\theta} = (\\hat{y}-y ) * x$\n",
    "\n",
    "Thus the optimizer will be:\n",
    "\n",
    "$\\theta = \\theta - \\alpha * \\frac{\\partial J}{\\partial \\theta}$\n",
    "\n",
    "$\\theta = \\theta - \\alpha * (\\hat{y}-y ) * x$"
   ]
  },
  {
   "cell_type": "markdown",
   "metadata": {},
   "source": [
    "Let us write the code of it."
   ]
  },
  {
   "cell_type": "code",
   "execution_count": 11,
   "metadata": {},
   "outputs": [],
   "source": [
    "def optimize(theta,X,y):\n",
    "    n = X.shape[0]\n",
    "    alpha = 1e-1\n",
    "    y_hat = model(theta,X)\n",
    "    dtheta = (1.0/n) * ((y_hat-y)*X)\n",
    "    dtheta = np.sum(dtheta, axis=0)\n",
    "    dtheta=dtheta.reshape((31,1))\n",
    "    theta = theta - alpha * dtheta\n",
    "    return theta"
   ]
  },
  {
   "cell_type": "markdown",
   "metadata": {},
   "source": [
    "## Evaluation\n",
    "We evaluate the performance of classification algorithms by accuracy. You can also use ROC, recall, precision, F1 score and so on. But here I just use accuracy. Three functions are given. The first calcuate $\\hat{y}$, which is a number between 0 and 1. The second function use the result of the first function and "
   ]
  },
  {
   "cell_type": "code",
   "execution_count": 12,
   "metadata": {},
   "outputs": [],
   "source": [
    "def predict_proba(theta, X):\n",
    "    y_hat=model(theta, X)\n",
    "    return y_hat\n",
    "\n",
    "def predict(X, theta):\n",
    "    y_hat=predict_proba(theta,X)\n",
    "    y_hard=(y_hat > 0.5) * 1\n",
    "    return y_hard\n",
    "\n",
    "def accuracy(theta, X, y):\n",
    "    y_hard=predict(X, theta)\n",
    "    count_right=sum(y_hard == y)\n",
    "    return count_right*1.0/len(y)"
   ]
  },
  {
   "cell_type": "markdown",
   "metadata": {},
   "source": [
    "## Iterations"
   ]
  },
  {
   "cell_type": "code",
   "execution_count": 39,
   "metadata": {},
   "outputs": [],
   "source": [
    "def iterate(theta,X,y,times):\n",
    "    costs = []\n",
    "    accs = []\n",
    "    for i in range(times):\n",
    "        theta = optimize(theta,X,y)\n",
    "        costs.append(cost_function(theta, X, y))\n",
    "        accs.append(accuracy(theta, X, y))\n",
    "\n",
    "    return theta, costs, accs"
   ]
  },
  {
   "cell_type": "markdown",
   "metadata": {},
   "source": [
    "# Prepare Data\n",
    "Load Data"
   ]
  },
  {
   "cell_type": "code",
   "execution_count": 40,
   "metadata": {},
   "outputs": [],
   "source": [
    "X = dataset.data\n",
    "y = dataset.target\n",
    "n_features = X.shape[1]"
   ]
  },
  {
   "cell_type": "markdown",
   "metadata": {},
   "source": [
    "Data Normalization"
   ]
  },
  {
   "cell_type": "code",
   "execution_count": 41,
   "metadata": {},
   "outputs": [],
   "source": [
    "std=X.std(axis=0)\n",
    "mean=X.mean(axis=0)\n",
    "X_norm = (X - mean) / std"
   ]
  },
  {
   "cell_type": "markdown",
   "metadata": {},
   "source": [
    "Append ones at the beginning of each row of matrix."
   ]
  },
  {
   "cell_type": "code",
   "execution_count": 42,
   "metadata": {},
   "outputs": [],
   "source": [
    "def add_ones(X):\n",
    "    ones=np.ones((X.shape[0],1))\n",
    "    X_with_ones=np.hstack((ones, X))\n",
    "    return X_with_ones"
   ]
  },
  {
   "cell_type": "code",
   "execution_count": 43,
   "metadata": {},
   "outputs": [],
   "source": [
    "X_with_ones = add_ones(X_norm)"
   ]
  },
  {
   "cell_type": "markdown",
   "metadata": {},
   "source": [
    "Split Train and test data"
   ]
  },
  {
   "cell_type": "code",
   "execution_count": 44,
   "metadata": {},
   "outputs": [],
   "source": [
    "X_train, X_test, y_train, y_test = train_test_split(X_with_ones, y, test_size = 0.3, random_state=12345)\n",
    "y_train=y_train.reshape((y_train.shape[0],1))\n",
    "y_test=y_test.reshape((y_test.shape[0],1))"
   ]
  },
  {
   "cell_type": "markdown",
   "metadata": {},
   "source": [
    "# Apply Algorithm"
   ]
  },
  {
   "cell_type": "code",
   "execution_count": 45,
   "metadata": {},
   "outputs": [],
   "source": [
    "theta = np.ones((n_features+1,1))"
   ]
  },
  {
   "cell_type": "code",
   "execution_count": 46,
   "metadata": {},
   "outputs": [
    {
     "name": "stderr",
     "output_type": "stream",
     "text": [
      "C:\\ProgramData\\Anaconda3\\lib\\site-packages\\ipykernel_launcher.py:4: RuntimeWarning: divide by zero encountered in log\n",
      "  after removing the cwd from sys.path.\n"
     ]
    }
   ],
   "source": [
    "theta, costs, accs = iterate(theta, X_train, y_train, 1500)"
   ]
  },
  {
   "cell_type": "code",
   "execution_count": 53,
   "metadata": {},
   "outputs": [
    {
     "data": {
      "text/plain": [
       "[<matplotlib.lines.Line2D at 0x1e4af03b438>]"
      ]
     },
     "execution_count": 53,
     "metadata": {},
     "output_type": "execute_result"
    },
    {
     "data": {
      "image/png": "[encoded data removed]",
      "text/plain": [
       "<Figure size 432x288 with 1 Axes>"
      ]
     },
     "metadata": {
      "needs_background": "light"
     },
     "output_type": "display_data"
    }
   ],
   "source": [
    "plt.plot(costs)"
   ]
  },
  {
   "cell_type": "code",
   "execution_count": 56,
   "metadata": {
    "scrolled": true
   },
   "outputs": [
    {
     "data": {
      "text/plain": [
       "[<matplotlib.lines.Line2D at 0x1e4af297b38>]"
      ]
     },
     "execution_count": 56,
     "metadata": {},
     "output_type": "execute_result"
    },
    {
     "data": {
      "image/png": "[encoded data removed]",
      "text/plain": [
       "<Figure size 432x288 with 1 Axes>"
      ]
     },
     "metadata": {
      "needs_background": "light"
     },
     "output_type": "display_data"
    }
   ],
   "source": [
    "plt.plot(costs[:100])"
   ]
  },
  {
   "cell_type": "code",
   "execution_count": 54,
   "metadata": {},
   "outputs": [
    {
     "data": {
      "text/plain": [
       "[<matplotlib.lines.Line2D at 0x1e4aecf9898>]"
      ]
     },
     "execution_count": 54,
     "metadata": {},
     "output_type": "execute_result"
    },
    {
     "data": {
      "image/png": "[encoded data removed]",
      "text/plain": [
       "<Figure size 432x288 with 1 Axes>"
      ]
     },
     "metadata": {
      "needs_background": "light"
     },
     "output_type": "display_data"
    }
   ],
   "source": [
    "plt.plot(accs)"
   ]
  },
  {
   "cell_type": "code",
   "execution_count": 51,
   "metadata": {},
   "outputs": [
    {
     "data": {
      "text/plain": [
       "[<matplotlib.lines.Line2D at 0x1e4aee887f0>]"
      ]
     },
     "execution_count": 51,
     "metadata": {},
     "output_type": "execute_result"
    },
    {
     "data": {
      "image/png": "[encoded data removed]",
      "text/plain": [
       "<Figure size 432x288 with 1 Axes>"
      ]
     },
     "metadata": {
      "needs_background": "light"
     },
     "output_type": "display_data"
    }
   ],
   "source": [
    "plt.plot(accs[:100])"
   ]
  },
  {
   "cell_type": "markdown",
   "metadata": {},
   "source": [
    "Apply model to test data."
   ]
  },
  {
   "cell_type": "code",
   "execution_count": 52,
   "metadata": {},
   "outputs": [
    {
     "name": "stdout",
     "output_type": "stream",
     "text": [
      "[0.0489982] [0.99246231]\n"
     ]
    }
   ],
   "source": [
    "print(costs[-1], accs[-1])"
   ]
  },
  {
   "cell_type": "code",
   "execution_count": 21,
   "metadata": {},
   "outputs": [
    {
     "data": {
      "text/plain": [
       "array([0.97660819])"
      ]
     },
     "execution_count": 21,
     "metadata": {},
     "output_type": "execute_result"
    }
   ],
   "source": [
    "accuracy(theta, X_test, y_test)"
   ]
  },
  {
   "cell_type": "code",
   "execution_count": null,
   "metadata": {},
   "outputs": [],
   "source": []
  },
  {
   "cell_type": "code",
   "execution_count": null,
   "metadata": {},
   "outputs": [],
   "source": []
  },
  {
   "cell_type": "markdown",
   "metadata": {},
   "source": [
    "# Use sklearn"
   ]
  },
  {
   "cell_type": "code",
   "execution_count": 22,
   "metadata": {},
   "outputs": [],
   "source": [
    "from sklearn.linear_model import LogisticRegression"
   ]
  },
  {
   "cell_type": "code",
   "execution_count": 23,
   "metadata": {},
   "outputs": [],
   "source": [
    "X = dataset.data\n",
    "y = dataset.target\n",
    "X_train, X_test, y_train, y_test = train_test_split(X_with_ones, y, test_size = 0.3, random_state=12345)"
   ]
  },
  {
   "cell_type": "code",
   "execution_count": 24,
   "metadata": {},
   "outputs": [
    {
     "name": "stderr",
     "output_type": "stream",
     "text": [
      "C:\\ProgramData\\Anaconda3\\lib\\site-packages\\sklearn\\linear_model\\logistic.py:433: FutureWarning: Default solver will be changed to 'lbfgs' in 0.22. Specify a solver to silence this warning.\n",
      "  FutureWarning)\n"
     ]
    },
    {
     "data": {
      "text/plain": [
       "LogisticRegression(C=1.0, class_weight=None, dual=False, fit_intercept=True,\n",
       "          intercept_scaling=1, max_iter=100, multi_class='warn',\n",
       "          n_jobs=None, penalty='l2', random_state=None, solver='warn',\n",
       "          tol=0.0001, verbose=0, warm_start=False)"
      ]
     },
     "execution_count": 24,
     "metadata": {},
     "output_type": "execute_result"
    }
   ],
   "source": [
    "lr = LogisticRegression()\n",
    "lr.fit(X_train, y_train)"
   ]
  },
  {
   "cell_type": "code",
   "execution_count": 25,
   "metadata": {},
   "outputs": [
    {
     "data": {
      "text/plain": [
       "0.992462311557789"
      ]
     },
     "execution_count": 25,
     "metadata": {},
     "output_type": "execute_result"
    }
   ],
   "source": [
    "lr.score(X_train, y_train)"
   ]
  },
  {
   "cell_type": "code",
   "execution_count": 26,
   "metadata": {},
   "outputs": [
    {
     "data": {
      "text/plain": [
       "0.9766081871345029"
      ]
     },
     "execution_count": 26,
     "metadata": {},
     "output_type": "execute_result"
    }
   ],
   "source": [
    "lr.score(X_test, y_test)"
   ]
  },
  {
   "cell_type": "code",
   "execution_count": 27,
   "metadata": {},
   "outputs": [
    {
     "data": {
      "text/plain": [
       "array([0.16188044])"
      ]
     },
     "execution_count": 27,
     "metadata": {},
     "output_type": "execute_result"
    }
   ],
   "source": [
    "lr.intercept_"
   ]
  },
  {
   "cell_type": "code",
   "execution_count": 28,
   "metadata": {},
   "outputs": [
    {
     "data": {
      "text/plain": [
       "array([ 0.16188044, -0.35607225, -0.51732699, -0.38050215, -0.45233913,\n",
       "       -0.34296444,  0.3498612 , -0.88317445, -0.99814281, -0.06963982,\n",
       "        0.27916329, -1.06875966,  0.09017138, -0.76342139, -0.75020754,\n",
       "        0.32578214,  1.15876839, -0.07459907, -0.49088402,  0.06566515,\n",
       "        0.7962668 , -0.79499813, -0.87404419, -0.75630483, -0.82259933,\n",
       "       -0.73091925,  0.13404571, -0.88450734, -0.83173228, -0.5178612 ,\n",
       "       -0.4865363 ])"
      ]
     },
     "execution_count": 28,
     "metadata": {},
     "output_type": "execute_result"
    }
   ],
   "source": [
    "lr.coef_[0]"
   ]
  },
  {
   "cell_type": "code",
   "execution_count": 29,
   "metadata": {},
   "outputs": [],
   "source": [
    "data_compare = pd.DataFrame()"
   ]
  },
  {
   "cell_type": "code",
   "execution_count": 30,
   "metadata": {},
   "outputs": [],
   "source": [
    "data_compare['features'] = np.hstack((['bias'], data.columns[:-1]))\n",
    "data_compare['sklearn'] = lr.coef_[0]\n",
    "data_compare['mine'] = (theta) "
   ]
  },
  {
   "cell_type": "code",
   "execution_count": 31,
   "metadata": {},
   "outputs": [
    {
     "data": {
      "text/html": [
       "<div>\n",
       "<style scoped>\n",
       "    .dataframe tbody tr th:only-of-type {\n",
       "        vertical-align: middle;\n",
       "    }\n",
       "\n",
       "    .dataframe tbody tr th {\n",
       "        vertical-align: top;\n",
       "    }\n",
       "\n",
       "    .dataframe thead th {\n",
       "        text-align: right;\n",
       "    }\n",
       "</style>\n",
       "<table border=\"1\" class=\"dataframe\">\n",
       "  <thead>\n",
       "    <tr style=\"text-align: right;\">\n",
       "      <th></th>\n",
       "      <th>features</th>\n",
       "      <th>sklearn</th>\n",
       "      <th>mine</th>\n",
       "    </tr>\n",
       "  </thead>\n",
       "  <tbody>\n",
       "    <tr>\n",
       "      <th>0</th>\n",
       "      <td>bias</td>\n",
       "      <td>0.161880</td>\n",
       "      <td>0.660577</td>\n",
       "    </tr>\n",
       "    <tr>\n",
       "      <th>1</th>\n",
       "      <td>mean radius</td>\n",
       "      <td>-0.356072</td>\n",
       "      <td>-0.417717</td>\n",
       "    </tr>\n",
       "    <tr>\n",
       "      <th>2</th>\n",
       "      <td>mean texture</td>\n",
       "      <td>-0.517327</td>\n",
       "      <td>-0.686624</td>\n",
       "    </tr>\n",
       "    <tr>\n",
       "      <th>3</th>\n",
       "      <td>mean perimeter</td>\n",
       "      <td>-0.380502</td>\n",
       "      <td>-0.465461</td>\n",
       "    </tr>\n",
       "    <tr>\n",
       "      <th>4</th>\n",
       "      <td>mean area</td>\n",
       "      <td>-0.452339</td>\n",
       "      <td>-0.417080</td>\n",
       "    </tr>\n",
       "    <tr>\n",
       "      <th>5</th>\n",
       "      <td>mean smoothness</td>\n",
       "      <td>-0.342964</td>\n",
       "      <td>-0.506114</td>\n",
       "    </tr>\n",
       "    <tr>\n",
       "      <th>6</th>\n",
       "      <td>mean compactness</td>\n",
       "      <td>0.349861</td>\n",
       "      <td>-0.089967</td>\n",
       "    </tr>\n",
       "    <tr>\n",
       "      <th>7</th>\n",
       "      <td>mean concavity</td>\n",
       "      <td>-0.883174</td>\n",
       "      <td>-0.952097</td>\n",
       "    </tr>\n",
       "    <tr>\n",
       "      <th>8</th>\n",
       "      <td>mean concave points</td>\n",
       "      <td>-0.998143</td>\n",
       "      <td>-1.069773</td>\n",
       "    </tr>\n",
       "    <tr>\n",
       "      <th>9</th>\n",
       "      <td>mean symmetry</td>\n",
       "      <td>-0.069640</td>\n",
       "      <td>-0.202518</td>\n",
       "    </tr>\n",
       "    <tr>\n",
       "      <th>10</th>\n",
       "      <td>mean fractal dimension</td>\n",
       "      <td>0.279163</td>\n",
       "      <td>0.695040</td>\n",
       "    </tr>\n",
       "    <tr>\n",
       "      <th>11</th>\n",
       "      <td>radius error</td>\n",
       "      <td>-1.068760</td>\n",
       "      <td>-1.099068</td>\n",
       "    </tr>\n",
       "    <tr>\n",
       "      <th>12</th>\n",
       "      <td>texture error</td>\n",
       "      <td>0.090171</td>\n",
       "      <td>0.142689</td>\n",
       "    </tr>\n",
       "    <tr>\n",
       "      <th>13</th>\n",
       "      <td>perimeter error</td>\n",
       "      <td>-0.763421</td>\n",
       "      <td>-0.837507</td>\n",
       "    </tr>\n",
       "    <tr>\n",
       "      <th>14</th>\n",
       "      <td>area error</td>\n",
       "      <td>-0.750208</td>\n",
       "      <td>-0.615647</td>\n",
       "    </tr>\n",
       "    <tr>\n",
       "      <th>15</th>\n",
       "      <td>smoothness error</td>\n",
       "      <td>0.325782</td>\n",
       "      <td>0.512581</td>\n",
       "    </tr>\n",
       "    <tr>\n",
       "      <th>16</th>\n",
       "      <td>compactness error</td>\n",
       "      <td>1.158768</td>\n",
       "      <td>0.865116</td>\n",
       "    </tr>\n",
       "    <tr>\n",
       "      <th>17</th>\n",
       "      <td>concavity error</td>\n",
       "      <td>-0.074599</td>\n",
       "      <td>0.216623</td>\n",
       "    </tr>\n",
       "    <tr>\n",
       "      <th>18</th>\n",
       "      <td>concave points error</td>\n",
       "      <td>-0.490884</td>\n",
       "      <td>-0.379302</td>\n",
       "    </tr>\n",
       "    <tr>\n",
       "      <th>19</th>\n",
       "      <td>symmetry error</td>\n",
       "      <td>0.065665</td>\n",
       "      <td>0.223310</td>\n",
       "    </tr>\n",
       "    <tr>\n",
       "      <th>20</th>\n",
       "      <td>fractal dimension error</td>\n",
       "      <td>0.796267</td>\n",
       "      <td>0.870673</td>\n",
       "    </tr>\n",
       "    <tr>\n",
       "      <th>21</th>\n",
       "      <td>worst radius</td>\n",
       "      <td>-0.794998</td>\n",
       "      <td>-0.779020</td>\n",
       "    </tr>\n",
       "    <tr>\n",
       "      <th>22</th>\n",
       "      <td>worst texture</td>\n",
       "      <td>-0.874044</td>\n",
       "      <td>-0.937510</td>\n",
       "    </tr>\n",
       "    <tr>\n",
       "      <th>23</th>\n",
       "      <td>worst perimeter</td>\n",
       "      <td>-0.756305</td>\n",
       "      <td>-0.746362</td>\n",
       "    </tr>\n",
       "    <tr>\n",
       "      <th>24</th>\n",
       "      <td>worst area</td>\n",
       "      <td>-0.822599</td>\n",
       "      <td>-0.675477</td>\n",
       "    </tr>\n",
       "    <tr>\n",
       "      <th>25</th>\n",
       "      <td>worst smoothness</td>\n",
       "      <td>-0.730919</td>\n",
       "      <td>-0.874154</td>\n",
       "    </tr>\n",
       "    <tr>\n",
       "      <th>26</th>\n",
       "      <td>worst compactness</td>\n",
       "      <td>0.134046</td>\n",
       "      <td>-0.013241</td>\n",
       "    </tr>\n",
       "    <tr>\n",
       "      <th>27</th>\n",
       "      <td>worst concavity</td>\n",
       "      <td>-0.884507</td>\n",
       "      <td>-0.808783</td>\n",
       "    </tr>\n",
       "    <tr>\n",
       "      <th>28</th>\n",
       "      <td>worst concave points</td>\n",
       "      <td>-0.831732</td>\n",
       "      <td>-0.980588</td>\n",
       "    </tr>\n",
       "    <tr>\n",
       "      <th>29</th>\n",
       "      <td>worst symmetry</td>\n",
       "      <td>-0.517861</td>\n",
       "      <td>-0.563465</td>\n",
       "    </tr>\n",
       "    <tr>\n",
       "      <th>30</th>\n",
       "      <td>worst fractal dimension</td>\n",
       "      <td>-0.486536</td>\n",
       "      <td>-0.113248</td>\n",
       "    </tr>\n",
       "  </tbody>\n",
       "</table>\n",
       "</div>"
      ],
      "text/plain": [
       "                   features   sklearn      mine\n",
       "0                      bias  0.161880  0.660577\n",
       "1               mean radius -0.356072 -0.417717\n",
       "2              mean texture -0.517327 -0.686624\n",
       "3            mean perimeter -0.380502 -0.465461\n",
       "4                 mean area -0.452339 -0.417080\n",
       "5           mean smoothness -0.342964 -0.506114\n",
       "6          mean compactness  0.349861 -0.089967\n",
       "7            mean concavity -0.883174 -0.952097\n",
       "8       mean concave points -0.998143 -1.069773\n",
       "9             mean symmetry -0.069640 -0.202518\n",
       "10   mean fractal dimension  0.279163  0.695040\n",
       "11             radius error -1.068760 -1.099068\n",
       "12            texture error  0.090171  0.142689\n",
       "13          perimeter error -0.763421 -0.837507\n",
       "14               area error -0.750208 -0.615647\n",
       "15         smoothness error  0.325782  0.512581\n",
       "16        compactness error  1.158768  0.865116\n",
       "17          concavity error -0.074599  0.216623\n",
       "18     concave points error -0.490884 -0.379302\n",
       "19           symmetry error  0.065665  0.223310\n",
       "20  fractal dimension error  0.796267  0.870673\n",
       "21             worst radius -0.794998 -0.779020\n",
       "22            worst texture -0.874044 -0.937510\n",
       "23          worst perimeter -0.756305 -0.746362\n",
       "24               worst area -0.822599 -0.675477\n",
       "25         worst smoothness -0.730919 -0.874154\n",
       "26        worst compactness  0.134046 -0.013241\n",
       "27          worst concavity -0.884507 -0.808783\n",
       "28     worst concave points -0.831732 -0.980588\n",
       "29           worst symmetry -0.517861 -0.563465\n",
       "30  worst fractal dimension -0.486536 -0.113248"
      ]
     },
     "execution_count": 31,
     "metadata": {},
     "output_type": "execute_result"
    }
   ],
   "source": [
    "data_compare"
   ]
  },
  {
   "cell_type": "markdown",
   "metadata": {},
   "source": [
    "# Interpretatoin"
   ]
  },
  {
   "cell_type": "markdown",
   "metadata": {},
   "source": [
    "$\\hat{y}=\\frac{1}{1 + e^{- \\theta x}}$ \n",
    "\n",
    "If $\\theta=0$, then $e^{- \\theta x}=1$ and $\\hat{y}=0.5$\n",
    "\n",
    "If $\\theta$ is positive, then $e^{- \\theta x}<1$ and $\\hat{y}>0.5$"
   ]
  },
  {
   "cell_type": "markdown",
   "metadata": {},
   "source": [
    "∴ $-\\theta x = \\frac{1-\\hat{y}}{\\hat{y}}$ "
   ]
  },
  {
   "cell_type": "markdown",
   "metadata": {},
   "source": [
    "|$\\theta$ | $e^{- \\theta x}$ | $\\hat{y}$|interpretatoin|\n",
    "|--:|--:|--:|--:|\n",
    "| 0 | 1 | 0.5 |x has no impect over y|\n",
    "| positive | decreate when x increase | increate |y increase when x increase|\n",
    "| negative | increate when x increase | decreate |y decrease when x increase|"
   ]
  },
  {
   "cell_type": "markdown",
   "metadata": {},
   "source": [
    "For feature 1 (mean radius), because it is negative, so the bigger mean radius is, the more likely y is 0, or to say the cancer is likely malignant.\n",
    "\n"
   ]
  }
 ],
 "metadata": {
  "kernelspec": {
   "display_name": "Python 3",
   "language": "python",
   "name": "python3"
  },
  "language_info": {
   "codemirror_mode": {
    "name": "ipython",
    "version": 3
   },
   "file_extension": ".py",
   "mimetype": "text/x-python",
   "name": "python",
   "nbconvert_exporter": "python",
   "pygments_lexer": "ipython3",
   "version": "3.7.1"
  }
 },
 "nbformat": 4,
 "nbformat_minor": 2
}
