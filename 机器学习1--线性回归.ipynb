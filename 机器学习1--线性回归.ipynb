{
 "cells": [
  {
   "cell_type": "markdown",
   "metadata": {},
   "source": [
    "# 今天我们来开始入门机器学习，简单介绍一下线性回归模型\n",
    "\n",
    "**线性回归是线性模型，例如，假设输入变量（x）和单个输出变量（y）之间存在线性关系的模型。**\n",
    "\n",
    "**更具体地，可以根据输入变量（x）的线性组合来计算输出变量（y）。**\n",
    "\n",
    "\n",
    "我们希望算法学习假设的参数，以便能够建立方程进行预测\n",
    "该方程以特征和参数作为输入，并预测其值作为输出"
   ]
  },
  {
   "cell_type": "markdown",
   "metadata": {},
   "source": [
    "# 1.导入数据集，今天我们所用到的数据集是2017年世界人口幸福指数的数据集"
   ]
  },
  {
   "cell_type": "code",
   "execution_count": 1,
   "metadata": {},
   "outputs": [],
   "source": [
    "import numpy as np\n",
    "import pandas as pd\n",
    "import matplotlib.pyplot as plt"
   ]
  },
  {
   "cell_type": "code",
   "execution_count": 2,
   "metadata": {},
   "outputs": [
    {
     "name": "stdout",
     "output_type": "stream",
     "text": [
      "<class 'pandas.core.frame.DataFrame'>\n",
      "RangeIndex: 155 entries, 0 to 154\n",
      "Data columns (total 12 columns):\n",
      "Country                          155 non-null object\n",
      "Happiness.Rank                   155 non-null int64\n",
      "Happiness.Score                  155 non-null float64\n",
      "Whisker.high                     155 non-null float64\n",
      "Whisker.low                      155 non-null float64\n",
      "Economy..GDP.per.Capita.         155 non-null float64\n",
      "Family                           155 non-null float64\n",
      "Health..Life.Expectancy.         155 non-null float64\n",
      "Freedom                          155 non-null float64\n",
      "Generosity                       155 non-null float64\n",
      "Trust..Government.Corruption.    155 non-null float64\n",
      "Dystopia.Residual                155 non-null float64\n",
      "dtypes: float64(10), int64(1), object(1)\n",
      "memory usage: 14.6+ KB\n"
     ]
    },
    {
     "data": {
      "text/html": [
       "<div>\n",
       "<style scoped>\n",
       "    .dataframe tbody tr th:only-of-type {\n",
       "        vertical-align: middle;\n",
       "    }\n",
       "\n",
       "    .dataframe tbody tr th {\n",
       "        vertical-align: top;\n",
       "    }\n",
       "\n",
       "    .dataframe thead th {\n",
       "        text-align: right;\n",
       "    }\n",
       "</style>\n",
       "<table border=\"1\" class=\"dataframe\">\n",
       "  <thead>\n",
       "    <tr style=\"text-align: right;\">\n",
       "      <th></th>\n",
       "      <th>Country</th>\n",
       "      <th>Happiness.Rank</th>\n",
       "      <th>Happiness.Score</th>\n",
       "      <th>Whisker.high</th>\n",
       "      <th>Whisker.low</th>\n",
       "      <th>Economy..GDP.per.Capita.</th>\n",
       "      <th>Family</th>\n",
       "      <th>Health..Life.Expectancy.</th>\n",
       "      <th>Freedom</th>\n",
       "      <th>Generosity</th>\n",
       "      <th>Trust..Government.Corruption.</th>\n",
       "      <th>Dystopia.Residual</th>\n",
       "    </tr>\n",
       "  </thead>\n",
       "  <tbody>\n",
       "    <tr>\n",
       "      <th>0</th>\n",
       "      <td>Norway</td>\n",
       "      <td>1</td>\n",
       "      <td>7.537</td>\n",
       "      <td>7.594445</td>\n",
       "      <td>7.479556</td>\n",
       "      <td>1.616463</td>\n",
       "      <td>1.533524</td>\n",
       "      <td>0.796667</td>\n",
       "      <td>0.635423</td>\n",
       "      <td>0.362012</td>\n",
       "      <td>0.315964</td>\n",
       "      <td>2.277027</td>\n",
       "    </tr>\n",
       "    <tr>\n",
       "      <th>1</th>\n",
       "      <td>Denmark</td>\n",
       "      <td>2</td>\n",
       "      <td>7.522</td>\n",
       "      <td>7.581728</td>\n",
       "      <td>7.462272</td>\n",
       "      <td>1.482383</td>\n",
       "      <td>1.551122</td>\n",
       "      <td>0.792566</td>\n",
       "      <td>0.626007</td>\n",
       "      <td>0.355280</td>\n",
       "      <td>0.400770</td>\n",
       "      <td>2.313707</td>\n",
       "    </tr>\n",
       "    <tr>\n",
       "      <th>2</th>\n",
       "      <td>Iceland</td>\n",
       "      <td>3</td>\n",
       "      <td>7.504</td>\n",
       "      <td>7.622030</td>\n",
       "      <td>7.385970</td>\n",
       "      <td>1.480633</td>\n",
       "      <td>1.610574</td>\n",
       "      <td>0.833552</td>\n",
       "      <td>0.627163</td>\n",
       "      <td>0.475540</td>\n",
       "      <td>0.153527</td>\n",
       "      <td>2.322715</td>\n",
       "    </tr>\n",
       "    <tr>\n",
       "      <th>3</th>\n",
       "      <td>Switzerland</td>\n",
       "      <td>4</td>\n",
       "      <td>7.494</td>\n",
       "      <td>7.561772</td>\n",
       "      <td>7.426227</td>\n",
       "      <td>1.564980</td>\n",
       "      <td>1.516912</td>\n",
       "      <td>0.858131</td>\n",
       "      <td>0.620071</td>\n",
       "      <td>0.290549</td>\n",
       "      <td>0.367007</td>\n",
       "      <td>2.276716</td>\n",
       "    </tr>\n",
       "    <tr>\n",
       "      <th>4</th>\n",
       "      <td>Finland</td>\n",
       "      <td>5</td>\n",
       "      <td>7.469</td>\n",
       "      <td>7.527542</td>\n",
       "      <td>7.410458</td>\n",
       "      <td>1.443572</td>\n",
       "      <td>1.540247</td>\n",
       "      <td>0.809158</td>\n",
       "      <td>0.617951</td>\n",
       "      <td>0.245483</td>\n",
       "      <td>0.382612</td>\n",
       "      <td>2.430182</td>\n",
       "    </tr>\n",
       "    <tr>\n",
       "      <th>5</th>\n",
       "      <td>Netherlands</td>\n",
       "      <td>6</td>\n",
       "      <td>7.377</td>\n",
       "      <td>7.427426</td>\n",
       "      <td>7.326574</td>\n",
       "      <td>1.503945</td>\n",
       "      <td>1.428939</td>\n",
       "      <td>0.810696</td>\n",
       "      <td>0.585384</td>\n",
       "      <td>0.470490</td>\n",
       "      <td>0.282662</td>\n",
       "      <td>2.294804</td>\n",
       "    </tr>\n",
       "    <tr>\n",
       "      <th>6</th>\n",
       "      <td>Canada</td>\n",
       "      <td>7</td>\n",
       "      <td>7.316</td>\n",
       "      <td>7.384403</td>\n",
       "      <td>7.247597</td>\n",
       "      <td>1.479204</td>\n",
       "      <td>1.481349</td>\n",
       "      <td>0.834558</td>\n",
       "      <td>0.611101</td>\n",
       "      <td>0.435540</td>\n",
       "      <td>0.287372</td>\n",
       "      <td>2.187264</td>\n",
       "    </tr>\n",
       "    <tr>\n",
       "      <th>7</th>\n",
       "      <td>New Zealand</td>\n",
       "      <td>8</td>\n",
       "      <td>7.314</td>\n",
       "      <td>7.379510</td>\n",
       "      <td>7.248490</td>\n",
       "      <td>1.405706</td>\n",
       "      <td>1.548195</td>\n",
       "      <td>0.816760</td>\n",
       "      <td>0.614062</td>\n",
       "      <td>0.500005</td>\n",
       "      <td>0.382817</td>\n",
       "      <td>2.046456</td>\n",
       "    </tr>\n",
       "    <tr>\n",
       "      <th>8</th>\n",
       "      <td>Sweden</td>\n",
       "      <td>9</td>\n",
       "      <td>7.284</td>\n",
       "      <td>7.344095</td>\n",
       "      <td>7.223905</td>\n",
       "      <td>1.494387</td>\n",
       "      <td>1.478162</td>\n",
       "      <td>0.830875</td>\n",
       "      <td>0.612924</td>\n",
       "      <td>0.385399</td>\n",
       "      <td>0.384399</td>\n",
       "      <td>2.097538</td>\n",
       "    </tr>\n",
       "    <tr>\n",
       "      <th>9</th>\n",
       "      <td>Australia</td>\n",
       "      <td>10</td>\n",
       "      <td>7.284</td>\n",
       "      <td>7.356651</td>\n",
       "      <td>7.211349</td>\n",
       "      <td>1.484415</td>\n",
       "      <td>1.510042</td>\n",
       "      <td>0.843887</td>\n",
       "      <td>0.601607</td>\n",
       "      <td>0.477699</td>\n",
       "      <td>0.301184</td>\n",
       "      <td>2.065211</td>\n",
       "    </tr>\n",
       "  </tbody>\n",
       "</table>\n",
       "</div>"
      ],
      "text/plain": [
       "       Country  Happiness.Rank  Happiness.Score  Whisker.high  Whisker.low  \\\n",
       "0       Norway               1            7.537      7.594445     7.479556   \n",
       "1      Denmark               2            7.522      7.581728     7.462272   \n",
       "2      Iceland               3            7.504      7.622030     7.385970   \n",
       "3  Switzerland               4            7.494      7.561772     7.426227   \n",
       "4      Finland               5            7.469      7.527542     7.410458   \n",
       "5  Netherlands               6            7.377      7.427426     7.326574   \n",
       "6       Canada               7            7.316      7.384403     7.247597   \n",
       "7  New Zealand               8            7.314      7.379510     7.248490   \n",
       "8       Sweden               9            7.284      7.344095     7.223905   \n",
       "9    Australia              10            7.284      7.356651     7.211349   \n",
       "\n",
       "   Economy..GDP.per.Capita.    Family  Health..Life.Expectancy.   Freedom  \\\n",
       "0                  1.616463  1.533524                  0.796667  0.635423   \n",
       "1                  1.482383  1.551122                  0.792566  0.626007   \n",
       "2                  1.480633  1.610574                  0.833552  0.627163   \n",
       "3                  1.564980  1.516912                  0.858131  0.620071   \n",
       "4                  1.443572  1.540247                  0.809158  0.617951   \n",
       "5                  1.503945  1.428939                  0.810696  0.585384   \n",
       "6                  1.479204  1.481349                  0.834558  0.611101   \n",
       "7                  1.405706  1.548195                  0.816760  0.614062   \n",
       "8                  1.494387  1.478162                  0.830875  0.612924   \n",
       "9                  1.484415  1.510042                  0.843887  0.601607   \n",
       "\n",
       "   Generosity  Trust..Government.Corruption.  Dystopia.Residual  \n",
       "0    0.362012                       0.315964           2.277027  \n",
       "1    0.355280                       0.400770           2.313707  \n",
       "2    0.475540                       0.153527           2.322715  \n",
       "3    0.290549                       0.367007           2.276716  \n",
       "4    0.245483                       0.382612           2.430182  \n",
       "5    0.470490                       0.282662           2.294804  \n",
       "6    0.435540                       0.287372           2.187264  \n",
       "7    0.500005                       0.382817           2.046456  \n",
       "8    0.385399                       0.384399           2.097538  \n",
       "9    0.477699                       0.301184           2.065211  "
      ]
     },
     "execution_count": 2,
     "metadata": {},
     "output_type": "execute_result"
    }
   ],
   "source": [
    "#导入数据\n",
    "data = pd.read_csv('2017.csv')\n",
    "\n",
    "#查看数据集\n",
    "data.info()\n",
    "data.head(10)"
   ]
  },
  {
   "cell_type": "markdown",
   "metadata": {},
   "source": [
    "# 确保数据集没有异常值和缺失值，进行下一步操作\n",
    "**查看数据这一步很重要**"
   ]
  },
  {
   "cell_type": "code",
   "execution_count": 3,
   "metadata": {},
   "outputs": [
    {
     "data": {
      "image/png": "[encoded data removed]",
      "text/plain": [
       "<Figure size 720x720 with 12 Axes>"
      ]
     },
     "metadata": {
      "needs_background": "light"
     },
     "output_type": "display_data"
    }
   ],
   "source": [
    "#画出每一个属性的分布直方图\n",
    "histohrams = data.hist(grid=False, figsize=(10, 10))"
   ]
  },
  {
   "cell_type": "code",
   "execution_count": 4,
   "metadata": {},
   "outputs": [
    {
     "data": {
      "image/png": "[encoded data removed]",
      "text/plain": [
       "<Figure size 432x288 with 1 Axes>"
      ]
     },
     "metadata": {
      "needs_background": "light"
     },
     "output_type": "display_data"
    }
   ],
   "source": [
    "#切分训练集和测试集\n",
    "#分出80%训练集，20%测试集\n",
    "#这里没有用到sklearn的train_test_split\n",
    "train_data = data.sample(frac=0.8)\n",
    "test_data = data.drop(train_data.index)\n",
    "\n",
    "x_train = train_data[['Economy..GDP.per.Capita.']].values\n",
    "y_train = train_data[['Happiness.Score']].values\n",
    "\n",
    "\n",
    "x_test = test_data[['Economy..GDP.per.Capita.']].values\n",
    "y_test = test_data[['Happiness.Score']].values\n",
    "\n",
    "#绘制出散点图\n",
    "plt.scatter(x_train, y_train, label='Training Dataset')\n",
    "plt.scatter(x_test, y_test, label='Test Dataset')\n",
    "plt.xlabel('Economy..GDP.per.Capita.')\n",
    "plt.ylabel('Happiness.Score')\n",
    "plt.title('Countries Happines')\n",
    "plt.legend()\n",
    "plt.show()"
   ]
  },
  {
   "cell_type": "code",
   "execution_count": 5,
   "metadata": {},
   "outputs": [],
   "source": [
    "def normalize(features):\n",
    "    features_normalized = np.copy(features).astype(float)\n",
    "\n",
    "    features_mean = np.mean(features, 0)\n",
    "\n",
    "    features_deviation = np.std(features, 0)\n",
    "\n",
    "    if features.shape[0] > 1:\n",
    "        features_normalized -= features_mean\n",
    "\n",
    "    features_deviation[features_deviation == 0] = 1\n",
    "    features_normalized /= features_deviation\n",
    "\n",
    "    return features_normalized, features_mean, features_deviation"
   ]
  },
  {
   "cell_type": "code",
   "execution_count": 6,
   "metadata": {},
   "outputs": [],
   "source": [
    "def generate_sinusoids(dataset, sinusoid_degree):\n",
    "    num_examples = dataset.shape[0]\n",
    "    sinusoids = np.empty((num_examples, 0))\n",
    "    for degree in range(1, sinusoid_degree + 1):\n",
    "        sinusoid_features = np.sin(degree * dataset)\n",
    "        sinusoids = np.concatenate((sinusoids, sinusoid_features), axis=1)\n",
    "    return sinusoids"
   ]
  },
  {
   "cell_type": "code",
   "execution_count": 7,
   "metadata": {},
   "outputs": [],
   "source": [
    "def prepare_for_training(data, polynomial_degree=0, sinusoid_degree=0, normalize_data=True):\n",
    "    num_examples = data.shape[0]\n",
    "\n",
    "    data_processed = np.copy(data)\n",
    "\n",
    "    features_mean = 0\n",
    "    features_deviation = 0\n",
    "    data_normalized = data_processed\n",
    "    if normalize_data:\n",
    "        (\n",
    "            data_normalized,\n",
    "            features_mean,\n",
    "            features_deviation\n",
    "        ) = normalize(data_processed)\n",
    "\n",
    "        data_processed = data_normalized\n",
    "\n",
    "    if sinusoid_degree > 0:\n",
    "        sinusoids = generate_sinusoids(data_normalized, sinusoid_degree)\n",
    "        data_processed = np.concatenate((data_processed, sinusoids), axis=1)\n",
    "\n",
    "    if polynomial_degree > 0:\n",
    "        polynomials = generate_polynomials(data_normalized, polynomial_degree, normalize_data)\n",
    "        data_processed = np.concatenate((data_processed, polynomials), axis=1)\n",
    "\n",
    "    data_processed = np.hstack((np.ones((num_examples, 1)), data_processed))\n",
    "    return data_processed, features_mean, features_deviation"
   ]
  },
  {
   "cell_type": "code",
   "execution_count": 8,
   "metadata": {},
   "outputs": [],
   "source": [
    "def generate_polynomials(dataset, polynomial_degree, normalize_data=False):\n",
    "    features_split = np.array_split(dataset, 2, axis=1)\n",
    "    dataset_1 = features_split[0]\n",
    "    dataset_2 = features_split[1]\n",
    "\n",
    "    (num_examples_1, num_features_1) = dataset_1.shape\n",
    "    (num_examples_2, num_features_2) = dataset_2.shape\n",
    "\n",
    "    if num_examples_1 != num_examples_2:\n",
    "        raise ValueError('Can not generate polynomials for two sets with different number of rows')\n",
    "\n",
    "    if num_features_1 == 0 and num_features_2 == 0:\n",
    "        raise ValueError('Can not generate polynomials for two sets with no columns')\n",
    "\n",
    "    if num_features_1 == 0:\n",
    "        dataset_1 = dataset_2\n",
    "    elif num_features_2 == 0:\n",
    "        dataset_2 = dataset_1\n",
    "\n",
    "    num_features = num_features_1 if num_features_1 < num_examples_2 else num_features_2\n",
    "    dataset_1 = dataset_1[:, :num_features]\n",
    "    dataset_2 = dataset_2[:, :num_features]\n",
    "\n",
    "    polynomials = np.empty((num_examples_1, 0))\n",
    "\n",
    "    for i in range(1, polynomial_degree + 1):\n",
    "        for j in range(i + 1):\n",
    "            polynomial_feature = (dataset_1 ** (i - j)) * (dataset_2 ** j)\n",
    "            polynomials = np.concatenate((polynomials, polynomial_feature), axis=1)\n",
    "\n",
    "    if normalize_data:\n",
    "        polynomials = normalize(polynomials)[0]\n",
    "\n",
    "    return polynomials"
   ]
  },
  {
   "cell_type": "code",
   "execution_count": 9,
   "metadata": {},
   "outputs": [],
   "source": [
    "#开始自己动手写一个线性回归模型\n",
    "\n",
    "class self_LinearRegression:\n",
    "    def __init__(self, data, labels, polynomial_degree=0, sinusoid_degree=0, normalize_data=True):\n",
    "        (data_processed,features_mean,features_deviation)=prepare_for_training(data, polynomial_degree, sinusoid_degree, normalize_data)\n",
    "        self.data = data_processed\n",
    "        self.labels = labels\n",
    "        self.features_mean = features_mean\n",
    "        self.features_deviation = features_deviation\n",
    "        self.polynomial_degree = polynomial_degree\n",
    "        self.sinusoid_degree = sinusoid_degree\n",
    "        self.normalize_data = normalize_data\n",
    "        num_features = self.data.shape[1]\n",
    "        self.theta = np.zeros((num_features, 1))\n",
    "\n",
    "    #训练\n",
    "    def train(self, alpha, lambda_param=0, num_iterations=500):\n",
    "        cost_history = self.gradient_descent(alpha, lambda_param, num_iterations)\n",
    "        return self.theta, cost_history\n",
    "\n",
    "    #梯度下降\n",
    "    def gradient_descent(self, alpha, lambda_param, num_iterations):\n",
    "        cost_history = []\n",
    "        for _ in range(num_iterations):\n",
    "            self.gradient_step(alpha, lambda_param)\n",
    "            cost_history.append(self.cost_function(self.data, self.labels, lambda_param))\n",
    "        return cost_history\n",
    "\n",
    "    def gradient_step(self, alpha, lambda_param):\n",
    "        num_examples = self.data.shape[0]\n",
    "        predictions = self_LinearRegression.hypothesis(self.data, self.theta)\n",
    "        delta = predictions - self.labels\n",
    "        reg_param = 1 - alpha * lambda_param / num_examples\n",
    "        theta = self.theta\n",
    "        theta = theta * reg_param - alpha * (1 / num_examples) * (delta.T @ self.data).T\n",
    "        theta[0] = theta[0] - alpha * (1 / num_examples) * (self.data[:, 0].T @ delta).T\n",
    "        self.theta = theta\n",
    "\n",
    "    #损失率\n",
    "    def get_cost(self, data, labels, lambda_param):\n",
    "        data_processed = prepare_for_training(\n",
    "            data,\n",
    "            self.polynomial_degree,\n",
    "            self.sinusoid_degree,\n",
    "            self.normalize_data,\n",
    "        )[0]\n",
    "        return self.cost_function(data_processed, labels, lambda_param)\n",
    "\n",
    "    def cost_function(self, data, labels, lambda_param):\n",
    "        num_examples = data.shape[0]\n",
    "        delta = self_LinearRegression.hypothesis(data, self.theta) - labels\n",
    "        theta_cut = self.theta[1:, 0]\n",
    "        reg_param = lambda_param * (theta_cut.T @ theta_cut)\n",
    "        cost = (1 / 2 * num_examples) * (delta.T @ delta + reg_param)\n",
    "        return cost[0][0]\n",
    "\n",
    "    #预测\n",
    "    def predict(self, data):\n",
    "        data_processed = prepare_for_training(\n",
    "            data,\n",
    "            self.polynomial_degree,\n",
    "            self.sinusoid_degree,\n",
    "            self.normalize_data,\n",
    "        )[0]\n",
    "        predictions = self_LinearRegression.hypothesis(data_processed, self.theta)\n",
    "        return predictions\n",
    "\n",
    "    @staticmethod\n",
    "    def hypothesis(data, theta):\n",
    "        predictions = data @ theta\n",
    "        return predictions"
   ]
  },
  {
   "cell_type": "code",
   "execution_count": 10,
   "metadata": {},
   "outputs": [
    {
     "name": "stdout",
     "output_type": "stream",
     "text": [
      "最初损失率: 223598.61\n",
      "最优损失率: 3530.01\n"
     ]
    },
    {
     "data": {
      "text/html": [
       "<div>\n",
       "<style scoped>\n",
       "    .dataframe tbody tr th:only-of-type {\n",
       "        vertical-align: middle;\n",
       "    }\n",
       "\n",
       "    .dataframe tbody tr th {\n",
       "        vertical-align: top;\n",
       "    }\n",
       "\n",
       "    .dataframe thead th {\n",
       "        text-align: right;\n",
       "    }\n",
       "</style>\n",
       "<table border=\"1\" class=\"dataframe\">\n",
       "  <thead>\n",
       "    <tr style=\"text-align: right;\">\n",
       "      <th></th>\n",
       "      <th>自己的线性模型参数</th>\n",
       "    </tr>\n",
       "  </thead>\n",
       "  <tbody>\n",
       "    <tr>\n",
       "      <th>0</th>\n",
       "      <td>5.383319</td>\n",
       "    </tr>\n",
       "    <tr>\n",
       "      <th>1</th>\n",
       "      <td>0.892002</td>\n",
       "    </tr>\n",
       "  </tbody>\n",
       "</table>\n",
       "</div>"
      ],
      "text/plain": [
       "   自己的线性模型参数\n",
       "0   5.383319\n",
       "1   0.892002"
      ]
     },
     "execution_count": 10,
     "metadata": {},
     "output_type": "execute_result"
    }
   ],
   "source": [
    "#现在开始训练自己做的线性回归模型\n",
    "num_iterations = 500  #设置迭代次数\n",
    "learning_rate = 0.01   #学习率\n",
    "regularization_param = 0 #正则化参数\n",
    "polynomial_degree = 0\n",
    "sinusoid_degree = 0 \n",
    "\n",
    "linear_regression = self_LinearRegression(x_train, y_train, polynomial_degree, sinusoid_degree)\n",
    "(theta, cost_history) = linear_regression.train(learning_rate,regularization_param,num_iterations)\n",
    "\n",
    "#输出训练的损失率\n",
    "print('最初损失率: {:.2f}'.format(cost_history[0]))\n",
    "print('最优损失率: {:.2f}'.format(cost_history[-1]))\n",
    "\n",
    "#输出模型参数\n",
    "theta_table = pd.DataFrame({'自己的线性模型参数': theta.flatten()})\n",
    "theta_table.head()"
   ]
  },
  {
   "cell_type": "markdown",
   "metadata": {},
   "source": [
    "# 用自己写的模型训练得到的线性回归方程为:y=5.383319*x+0.892002"
   ]
  },
  {
   "cell_type": "code",
   "execution_count": 11,
   "metadata": {},
   "outputs": [
    {
     "data": {
      "image/png": "[encoded data removed]",
      "text/plain": [
       "<Figure size 432x288 with 1 Axes>"
      ]
     },
     "metadata": {
      "needs_background": "light"
     },
     "output_type": "display_data"
    }
   ],
   "source": [
    "#画出梯度下降\n",
    "plt.plot(range(num_iterations), cost_history)\n",
    "plt.xlabel('迭代次数')\n",
    "plt.ylabel('损失率')\n",
    "plt.title('损失率梯度下降图')\n",
    "plt.show()"
   ]
  },
  {
   "cell_type": "code",
   "execution_count": 12,
   "metadata": {},
   "outputs": [
    {
     "data": {
      "image/png": "[encoded data removed]",
      "text/plain": [
       "<Figure size 432x288 with 1 Axes>"
      ]
     },
     "metadata": {
      "needs_background": "light"
     },
     "output_type": "display_data"
    }
   ],
   "source": [
    "#用自己构建的模型去进行预测，绘制出模型预测直线\n",
    "\n",
    "predictions_num = 100\n",
    "x_predictions = np.linspace(x_train.min(), x_train.max(), predictions_num).reshape(predictions_num, 1)\n",
    "y_predictions = linear_regression.predict(x_predictions)\n",
    "\n",
    "plt.scatter(x_train, y_train, label='训练数据')\n",
    "plt.scatter(x_test, y_test, label='测试数据')\n",
    "plt.plot(x_predictions, y_predictions, 'r', label='预测直线')\n",
    "plt.xlabel('Economy..GDP.per.Capita.')\n",
    "plt.ylabel('Happiness.Score')\n",
    "plt.title('Countries Happines')\n",
    "plt.legend()\n",
    "plt.show()"
   ]
  },
  {
   "cell_type": "code",
   "execution_count": 13,
   "metadata": {},
   "outputs": [
    {
     "data": {
      "image/png": "[encoded data removed]",
      "text/plain": [
       "<Figure size 432x288 with 1 Axes>"
      ]
     },
     "metadata": {
      "needs_background": "light"
     },
     "output_type": "display_data"
    },
    {
     "name": "stdout",
     "output_type": "stream",
     "text": [
      "斜率为: [[2.1349492]]\n",
      "截距为: [3.2727537]\n"
     ]
    }
   ],
   "source": [
    "#用sklearn构建线性回归模型\n",
    "from sklearn.linear_model import LinearRegression\n",
    "\n",
    "#创建模型\n",
    "liner = LinearRegression()\n",
    "#拟合模型\n",
    "liner.fit(x_train,y_train)\n",
    "\n",
    "#预测\n",
    "y_predictions = liner.predict(x_predictions)\n",
    "\n",
    "plt.scatter(x_train, y_train, label='训练数据')\n",
    "plt.scatter(x_test, y_test, label='测试数据')\n",
    "plt.plot(x_predictions, y_predictions, 'r', label='预测直线')\n",
    "plt.xlabel('Economy..GDP.per.Capita.')\n",
    "plt.ylabel('Happiness.Score')\n",
    "plt.title('Countries Happines')\n",
    "plt.legend()\n",
    "plt.show()\n",
    "print(\"斜率为:\",liner.coef_)\n",
    "print(\"截距为:\",liner.intercept_)"
   ]
  },
  {
   "cell_type": "markdown",
   "metadata": {},
   "source": [
    "# 用sklearn训练得到的线性回归方程为:y=2.1349492*x+3.2727537"
   ]
  },
  {
   "cell_type": "code",
   "execution_count": null,
   "metadata": {},
   "outputs": [],
   "source": []
  }
 ],
 "metadata": {
  "kernelspec": {
   "display_name": "Python 3",
   "language": "python",
   "name": "python3"
  },
  "language_info": {
   "codemirror_mode": {
    "name": "ipython",
    "version": 3
   },
   "file_extension": ".py",
   "mimetype": "text/x-python",
   "name": "python",
   "nbconvert_exporter": "python",
   "pygments_lexer": "ipython3",
   "version": "3.7.1"
  }
 },
 "nbformat": 4,
 "nbformat_minor": 2
}
