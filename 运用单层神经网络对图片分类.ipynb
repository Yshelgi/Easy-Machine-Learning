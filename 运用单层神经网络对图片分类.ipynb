{
 "cells": [
  {
   "cell_type": "markdown",
   "metadata": {},
   "source": [
    "# 初始化，假设n个特征，m个样本\n",
    "\n",
    "J=0\n",
    "W=np.zeros([n,1]),b=0\n",
    "\n",
    "\n",
    "Z=$np.dot(W^T,X)+b$\n",
    "\n",
    "\n",
    "$A=\\sigma(Z)$\n",
    "\n",
    "每个样本梯度计算过程为:\n",
    "\n",
    "\n",
    "dZ=A_Y\n",
    "\n",
    "\n",
    "$dW=\\frac{1}{m}XdZ^T$\n",
    "\n",
    "\n",
    "$db=\\frac{1}{m}np.sum(dZ)$\n",
    "\n",
    "\n",
    "更新参数的公式\n",
    "\n",
    "\n",
    "$W:=W-\\alpha dW$\n",
    "\n",
    "\n",
    "$b:=b-\\alpha db$"
   ]
  },
  {
   "cell_type": "code",
   "execution_count": 1,
   "metadata": {},
   "outputs": [],
   "source": [
    "import numpy as np\n",
    "from PIL import Image\n",
    "import scipy\n",
    "from scipy import ndimage\n",
    "from sklearn.model_selection import train_test_split\n",
    "from sklearn.datasets import load_iris\n",
    "import matplotlib.pyplot as plt\n",
    "plt.rcParams['axes.unicode_minus']=False"
   ]
  },
  {
   "cell_type": "markdown",
   "metadata": {},
   "source": [
    "# sigmoid函数"
   ]
  },
  {
   "cell_type": "code",
   "execution_count": 2,
   "metadata": {},
   "outputs": [
    {
     "data": {
      "image/png": "[encoded data removed]",
      "text/plain": [
       "<Figure size 432x288 with 1 Axes>"
      ]
     },
     "metadata": {
      "needs_background": "light"
     },
     "output_type": "display_data"
    }
   ],
   "source": [
    "def basic_sigmoid(x):\n",
    "    return 1/(1+np.exp(-x))\n",
    "\n",
    "#画出sigmoid函数的图像\n",
    "x=np.arange(-20,20,0.2)\n",
    "h=basic_sigmoid(x)\n",
    "plt.plot(x,h)\n",
    "plt.axvline(0.0,color='k')\n",
    "plt.axhline(y=0.5,ls='dotted',color='k')\n",
    "plt.yticks([0.0,0.5,1.0])\n",
    "plt.title(r'sigmoid函数曲线',fontsize=15)\n",
    "plt.text(5,0.8,r'$y=\\frac{1}{1+e^{-z}}$',fontsize=18)\n",
    "plt.show()"
   ]
  },
  {
   "cell_type": "markdown",
   "metadata": {},
   "source": [
    "# sigmoid函数的梯度函数\n",
    "\n",
    "$\\sigma(x)'={\\sigma(x)(1-\\sigma(x))}$"
   ]
  },
  {
   "cell_type": "code",
   "execution_count": 4,
   "metadata": {},
   "outputs": [
    {
     "data": {
      "text/plain": [
       "0.19661193324148185"
      ]
     },
     "execution_count": 4,
     "metadata": {},
     "output_type": "execute_result"
    }
   ],
   "source": [
    "def sigmoid_derivative(x):\n",
    "    s=basic_sigmoid(x)\n",
    "    ds=s*(1-s)\n",
    "    return ds\n",
    "\n",
    "sigmoid_derivative(1)"
   ]
  },
  {
   "cell_type": "code",
   "execution_count": null,
   "metadata": {},
   "outputs": [],
   "source": []
  }
 ],
 "metadata": {
  "kernelspec": {
   "display_name": "Python 3",
   "language": "python",
   "name": "python3"
  },
  "language_info": {
   "codemirror_mode": {
    "name": "ipython",
    "version": 3
   },
   "file_extension": ".py",
   "mimetype": "text/x-python",
   "name": "python",
   "nbconvert_exporter": "python",
   "pygments_lexer": "ipython3",
   "version": "3.7.3"
  }
 },
 "nbformat": 4,
 "nbformat_minor": 4
}
